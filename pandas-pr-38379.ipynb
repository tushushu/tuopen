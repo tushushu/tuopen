{
 "cells": [
  {
   "cell_type": "markdown",
   "metadata": {},
   "source": [
    "The PR is to solve issue: https://github.com/pandas-dev/pandas/issues/38340  \n",
    "The PR link is: https://github.com/pandas-dev/pandas/pull/38379"
   ]
  },
  {
   "cell_type": "markdown",
   "metadata": {},
   "source": [
    "### 0. Compile pandas"
   ]
  },
  {
   "cell_type": "code",
   "execution_count": 1,
   "metadata": {},
   "outputs": [
    {
     "name": "stdout",
     "output_type": "stream",
     "text": [
      "Already compiled!\n"
     ]
    }
   ],
   "source": [
    "import os\n",
    "pandas_path = os.environ['PANDAS_PATH']\n",
    "os.chdir(pandas_path)\n",
    "os.system(\"cd $PANDAS_PATH\")\n",
    "try:\n",
    "    import pandas as pd\n",
    "    print(\"Already compiled!\")\n",
    "except:\n",
    "    print(\"Compiling...\")\n",
    "    os.system(\"python setup.py develop\")\n",
    "    os.system(\"pip uninstall pandas\")\n",
    "    print(\"Compiled!\")"
   ]
  },
  {
   "cell_type": "code",
   "execution_count": 2,
   "metadata": {},
   "outputs": [],
   "source": [
    "def get_so_file_names(path, keyword):\n",
    "    list_of_files = set()\n",
    "    for (dirpath, dirnames, filenames) in os.walk(path):\n",
    "        for filename in filenames:\n",
    "            if keyword in filename: \n",
    "                list_of_files.add(os.sep.join([dirpath, filename]))\n",
    "    return list_of_files"
   ]
  },
  {
   "cell_type": "code",
   "execution_count": 3,
   "metadata": {},
   "outputs": [],
   "source": [
    "def rename_files(file_names, keyword):\n",
    "    for file_name in file_names:\n",
    "        os.rename(file_name, file_name.replace(keyword, \"\"))\n",
    "    print(f\"{len(file_names)} files renamed!\")"
   ]
  },
  {
   "cell_type": "code",
   "execution_count": 4,
   "metadata": {},
   "outputs": [
    {
     "name": "stdout",
     "output_type": "stream",
     "text": [
      "0 files renamed!\n"
     ]
    }
   ],
   "source": [
    "keyword = \".cpython-37m-darwin\"\n",
    "so_file_names = get_so_file_names(pandas_path, keyword)\n",
    "rename_files(so_file_names, keyword)"
   ]
  },
  {
   "cell_type": "markdown",
   "metadata": {},
   "source": [
    "### 2. Issue\n",
    "Currently, you can get quite a slowdown:"
   ]
  },
  {
   "cell_type": "code",
   "execution_count": 5,
   "metadata": {},
   "outputs": [],
   "source": [
    "import pandas as pd\n",
    "import numpy as np\n",
    "\n",
    "arr = np.random.randint(0, 10, 1_000_001)\n",
    "target = [1, 2, 3, 20]"
   ]
  },
  {
   "cell_type": "code",
   "execution_count": 6,
   "metadata": {},
   "outputs": [
    {
     "name": "stdout",
     "output_type": "stream",
     "text": [
      "2.86 ms ± 72.5 µs per loop (mean ± std. dev. of 7 runs, 100 loops each)\n"
     ]
    }
   ],
   "source": [
    "s1 = pd.Series(arr)\n",
    "%timeit s1.isin(target)"
   ]
  },
  {
   "cell_type": "code",
   "execution_count": 7,
   "metadata": {},
   "outputs": [
    {
     "name": "stdout",
     "output_type": "stream",
     "text": [
      "28.3 ms ± 154 µs per loop (mean ± std. dev. of 7 runs, 10 loops each)\n"
     ]
    }
   ],
   "source": [
    "s2 = pd.Series(arr, dtype=\"Int64\")\n",
    "%timeit s2.isin(target)"
   ]
  },
  {
   "cell_type": "markdown",
   "metadata": {},
   "source": [
    "### 3. Analysis\n",
    "We can see in `/pandas/core/series.py`, there is an `algorithms.isin` function might be the bottleneck.\n",
    "```Python\n",
    "def isin(self, values) -> \"Series\":\n",
    "        result = algorithms.isin(self._values, values)\n",
    "        return self._constructor(result, index=self.index).__finalize__(\n",
    "            self, method=\"isin\"\n",
    "        )\n",
    "```"
   ]
  },
  {
   "cell_type": "code",
   "execution_count": 8,
   "metadata": {},
   "outputs": [],
   "source": [
    "import pandas as pd"
   ]
  },
  {
   "cell_type": "code",
   "execution_count": 9,
   "metadata": {},
   "outputs": [],
   "source": [
    "%load_ext line_profiler"
   ]
  },
  {
   "cell_type": "code",
   "execution_count": 10,
   "metadata": {},
   "outputs": [],
   "source": [
    "from pandas.core.algorithms import isin"
   ]
  },
  {
   "cell_type": "code",
   "execution_count": 12,
   "metadata": {},
   "outputs": [],
   "source": [
    "%lprun -f isin isin(s2._values, target)"
   ]
  },
  {
   "cell_type": "markdown",
   "metadata": {},
   "source": [
    "### 4. Solution\n",
    "According to the profiling result, line 470 is the bottleneck:  \n",
    "```\n",
    "470         1       6074.0   6074.0     21.9          return isin(np.asarray(comps), np.asarray(values))\n",
    "```\n",
    "\n",
    "We could define and test our new isin as below, and the runtime is decreased to 2 ms."
   ]
  },
  {
   "cell_type": "code",
   "execution_count": 16,
   "metadata": {},
   "outputs": [],
   "source": [
    "from pandas.core.arrays.masked import BaseMaskedArray\n",
    "\n",
    "def fast_isin(comps, values):\n",
    "    if isinstance(comps, BaseMaskedArray):\n",
    "        comps = comps._data\n",
    "    return isin(comps, values)"
   ]
  },
  {
   "cell_type": "code",
   "execution_count": 17,
   "metadata": {},
   "outputs": [
    {
     "name": "stdout",
     "output_type": "stream",
     "text": [
      "2.46 ms ± 14.2 µs per loop (mean ± std. dev. of 7 runs, 100 loops each)\n"
     ]
    }
   ],
   "source": [
    "%timeit fast_isin(s2._values, target)"
   ]
  },
  {
   "cell_type": "code",
   "execution_count": 18,
   "metadata": {},
   "outputs": [
    {
     "name": "stdout",
     "output_type": "stream",
     "text": [
      "27.9 ms ± 112 µs per loop (mean ± std. dev. of 7 runs, 10 loops each)\n"
     ]
    }
   ],
   "source": [
    "%timeit isin(s2._values, target)"
   ]
  },
  {
   "cell_type": "markdown",
   "metadata": {},
   "source": [
    "### 5. Tests\n",
    "We should test for the Extension Arrays below:\n",
    "```Python\n",
    "IntegerArray\n",
    "FloatingArray\n",
    "BooleanArray\n",
    "```"
   ]
  },
  {
   "cell_type": "markdown",
   "metadata": {},
   "source": [
    "### 5.1 IntegerArray"
   ]
  },
  {
   "cell_type": "code",
   "execution_count": 19,
   "metadata": {},
   "outputs": [
    {
     "name": "stdout",
     "output_type": "stream",
     "text": [
      "2.65 ms ± 90.9 µs per loop (mean ± std. dev. of 7 runs, 100 loops each)\n"
     ]
    }
   ],
   "source": [
    "s3 = pd.Series(arr, dtype=\"Int64\")\n",
    "%timeit fast_isin(s3._values, target)"
   ]
  },
  {
   "cell_type": "code",
   "execution_count": 20,
   "metadata": {},
   "outputs": [
    {
     "name": "stdout",
     "output_type": "stream",
     "text": [
      "28 ms ± 91.9 µs per loop (mean ± std. dev. of 7 runs, 10 loops each)\n"
     ]
    }
   ],
   "source": [
    "%timeit isin(s3._values, target)"
   ]
  },
  {
   "cell_type": "markdown",
   "metadata": {},
   "source": [
    "### 5.2 FloatingArray"
   ]
  },
  {
   "cell_type": "code",
   "execution_count": 22,
   "metadata": {},
   "outputs": [
    {
     "name": "stdout",
     "output_type": "stream",
     "text": [
      "2.57 ms ± 97.3 µs per loop (mean ± std. dev. of 7 runs, 100 loops each)\n"
     ]
    }
   ],
   "source": [
    "s4 = pd.Series(arr, dtype=\"Float64\")\n",
    "target_f = [1.0, 2.0, 3.0, 4.0]\n",
    "%timeit fast_isin(s4._values, target_f)"
   ]
  },
  {
   "cell_type": "code",
   "execution_count": 23,
   "metadata": {},
   "outputs": [
    {
     "name": "stdout",
     "output_type": "stream",
     "text": [
      "63.9 ms ± 652 µs per loop (mean ± std. dev. of 7 runs, 10 loops each)\n"
     ]
    }
   ],
   "source": [
    "%timeit isin(s4._values, target_f)"
   ]
  },
  {
   "cell_type": "markdown",
   "metadata": {},
   "source": [
    "### 5.3 boolean"
   ]
  },
  {
   "cell_type": "code",
   "execution_count": 33,
   "metadata": {},
   "outputs": [
    {
     "name": "stdout",
     "output_type": "stream",
     "text": [
      "4.04 ms ± 25.4 µs per loop (mean ± std. dev. of 7 runs, 100 loops each)\n"
     ]
    }
   ],
   "source": [
    "arr_b = arr > 5\n",
    "s5 = pd.Series(arr_b, dtype=\"boolean\")\n",
    "target_b = [True, True, True, True]\n",
    "%timeit fast_isin(s5._values, target_b)"
   ]
  },
  {
   "cell_type": "code",
   "execution_count": 35,
   "metadata": {},
   "outputs": [
    {
     "name": "stdout",
     "output_type": "stream",
     "text": [
      "19.2 ms ± 182 µs per loop (mean ± std. dev. of 7 runs, 100 loops each)\n"
     ]
    }
   ],
   "source": [
    "%timeit isin(s5._values, target_b)"
   ]
  },
  {
   "cell_type": "markdown",
   "metadata": {},
   "source": [
    "### 5.4 pd.NA in the first array\n",
    "If there is pd.NA in the first array, the result could be incorrect, but we can multiply the result with `~comps._mask`."
   ]
  },
  {
   "cell_type": "code",
   "execution_count": 78,
   "metadata": {},
   "outputs": [
    {
     "data": {
      "text/plain": [
       "array([ True,  True,  True,  True, False])"
      ]
     },
     "execution_count": 78,
     "metadata": {},
     "output_type": "execute_result"
    }
   ],
   "source": [
    "s6 = pd.Series([1, 2, 3, pd.NA, 4], dtype=\"Int64\")\n",
    "target = [1, 2, 3, 20]\n",
    "fast_isin(s6._values, target)"
   ]
  },
  {
   "cell_type": "code",
   "execution_count": 79,
   "metadata": {},
   "outputs": [],
   "source": [
    "def isin_for_masked_array(comps, values):\n",
    "    if isinstance(comps, BaseMaskedArray):\n",
    "        _comps = comps._data\n",
    "        result = isin(_comps, values) * np.invert(comps._mask)\n",
    "        return result\n",
    "    return isin(comps, values)"
   ]
  },
  {
   "cell_type": "code",
   "execution_count": 80,
   "metadata": {},
   "outputs": [
    {
     "data": {
      "text/plain": [
       "array([ True,  True,  True, False, False])"
      ]
     },
     "execution_count": 80,
     "metadata": {},
     "output_type": "execute_result"
    }
   ],
   "source": [
    "isin_for_masked_array(s6._values, target)"
   ]
  },
  {
   "cell_type": "code",
   "execution_count": 81,
   "metadata": {},
   "outputs": [
    {
     "name": "stdout",
     "output_type": "stream",
     "text": [
      "2.42 ms ± 79.2 µs per loop (mean ± std. dev. of 7 runs, 100 loops each)\n"
     ]
    }
   ],
   "source": [
    "%timeit fast_isin(s3._values, target)"
   ]
  },
  {
   "cell_type": "code",
   "execution_count": 82,
   "metadata": {},
   "outputs": [
    {
     "name": "stdout",
     "output_type": "stream",
     "text": [
      "2.7 ms ± 82.9 µs per loop (mean ± std. dev. of 7 runs, 100 loops each)\n"
     ]
    }
   ],
   "source": [
    "%timeit isin_for_masked_array(s3._values, target)"
   ]
  },
  {
   "cell_type": "markdown",
   "metadata": {},
   "source": [
    "### 5.5 pd.NA in the second array\n",
    "If there is pd.NA in the second array, the result could be incorrect, but we can check if there is pd.NA in it."
   ]
  },
  {
   "cell_type": "code",
   "execution_count": 117,
   "metadata": {},
   "outputs": [
    {
     "data": {
      "text/plain": [
       "array([ True,  True,  True,  True, False])"
      ]
     },
     "execution_count": 117,
     "metadata": {},
     "output_type": "execute_result"
    }
   ],
   "source": [
    "s7 = pd.Series([1, 2, 3, pd.NA, 4], dtype=\"Int64\")\n",
    "target = [1, 2, 3, 20, pd.NA]\n",
    "isin(s7._values, target)"
   ]
  },
  {
   "cell_type": "code",
   "execution_count": 90,
   "metadata": {},
   "outputs": [
    {
     "data": {
      "text/plain": [
       "array([ True,  True,  True, False, False])"
      ]
     },
     "execution_count": 90,
     "metadata": {},
     "output_type": "execute_result"
    }
   ],
   "source": [
    "# The result is incorrect\n",
    "isin_for_masked_array(s7._values, target)"
   ]
  },
  {
   "cell_type": "code",
   "execution_count": 158,
   "metadata": {},
   "outputs": [],
   "source": [
    "def isin_for_masked_array2(comps, values):\n",
    "    # We have to be careful when values contains 1,\n",
    "    # Because MaskArray's NA value will be 1 in self._data.\n",
    "    if isinstance(comps, BaseMaskedArray):\n",
    "        result = isin(comps._data, values) * np.invert(comps._mask)\n",
    "        if any(x is pd.NA for x in values):\n",
    "            result += comps._mask\n",
    "        return result\n",
    "    return isin(comps, values)"
   ]
  },
  {
   "cell_type": "code",
   "execution_count": 159,
   "metadata": {},
   "outputs": [
    {
     "data": {
      "text/plain": [
       "array([ True,  True, False, False])"
      ]
     },
     "execution_count": 159,
     "metadata": {},
     "output_type": "execute_result"
    }
   ],
   "source": [
    "isin_for_masked_array2(pd.Series([2, 3, pd.NA, 4], dtype=\"Int64\")._values, \n",
    "                       [2, 3, 20])"
   ]
  },
  {
   "cell_type": "code",
   "execution_count": 160,
   "metadata": {},
   "outputs": [
    {
     "data": {
      "text/plain": [
       "array([ True,  True,  True, False])"
      ]
     },
     "execution_count": 160,
     "metadata": {},
     "output_type": "execute_result"
    }
   ],
   "source": [
    "isin_for_masked_array2(pd.Series([2, 3, pd.NA, 4], dtype=\"Int64\")._values, \n",
    "                       [2, 3, 20, pd.NA])"
   ]
  },
  {
   "cell_type": "code",
   "execution_count": 161,
   "metadata": {},
   "outputs": [
    {
     "data": {
      "text/plain": [
       "array([ True,  True, False])"
      ]
     },
     "execution_count": 161,
     "metadata": {},
     "output_type": "execute_result"
    }
   ],
   "source": [
    "isin_for_masked_array2(pd.Series([2, 3, 4], dtype=\"Int64\")._values, \n",
    "                       [2, 3, 20, pd.NA])"
   ]
  },
  {
   "cell_type": "code",
   "execution_count": 162,
   "metadata": {},
   "outputs": [
    {
     "data": {
      "text/plain": [
       "array([ True,  True, False])"
      ]
     },
     "execution_count": 162,
     "metadata": {},
     "output_type": "execute_result"
    }
   ],
   "source": [
    "isin_for_masked_array2(pd.Series([2, 3, 4], dtype=\"Int64\")._values, \n",
    "                       [2, 3, 20])"
   ]
  },
  {
   "cell_type": "code",
   "execution_count": 163,
   "metadata": {},
   "outputs": [
    {
     "data": {
      "text/plain": [
       "array([ True,  True, False, False])"
      ]
     },
     "execution_count": 163,
     "metadata": {},
     "output_type": "execute_result"
    }
   ],
   "source": [
    "isin_for_masked_array2(pd.Series([2, 3, pd.NA, 4], dtype=\"Int64\")._values, \n",
    "                       [1, 2, 3, 20])"
   ]
  },
  {
   "cell_type": "code",
   "execution_count": 164,
   "metadata": {},
   "outputs": [
    {
     "data": {
      "text/plain": [
       "array([ True,  True,  True, False])"
      ]
     },
     "execution_count": 164,
     "metadata": {},
     "output_type": "execute_result"
    }
   ],
   "source": [
    "isin_for_masked_array2(pd.Series([2, 3, pd.NA, 4], dtype=\"Int64\")._values, \n",
    "                       [1, 2, 3, 20, pd.NA])"
   ]
  },
  {
   "cell_type": "markdown",
   "metadata": {},
   "source": [
    "### 5.6 Test different array types for pd.NA existance"
   ]
  },
  {
   "cell_type": "code",
   "execution_count": 145,
   "metadata": {},
   "outputs": [
    {
     "data": {
      "text/plain": [
       "True"
      ]
     },
     "execution_count": 145,
     "metadata": {},
     "output_type": "execute_result"
    }
   ],
   "source": [
    "any(x is pd.NA for x in [1, 2, pd.NA])"
   ]
  },
  {
   "cell_type": "code",
   "execution_count": 146,
   "metadata": {},
   "outputs": [
    {
     "data": {
      "text/plain": [
       "True"
      ]
     },
     "execution_count": 146,
     "metadata": {},
     "output_type": "execute_result"
    }
   ],
   "source": [
    "any(x is pd.NA for x in np.array([1, 2, pd.NA]))"
   ]
  },
  {
   "cell_type": "code",
   "execution_count": 147,
   "metadata": {},
   "outputs": [
    {
     "data": {
      "text/plain": [
       "True"
      ]
     },
     "execution_count": 147,
     "metadata": {},
     "output_type": "execute_result"
    }
   ],
   "source": [
    "any(x is pd.NA for x in pd.Series([1, 2, pd.NA]))"
   ]
  },
  {
   "cell_type": "code",
   "execution_count": 148,
   "metadata": {},
   "outputs": [
    {
     "data": {
      "text/plain": [
       "True"
      ]
     },
     "execution_count": 148,
     "metadata": {},
     "output_type": "execute_result"
    }
   ],
   "source": [
    "any(x is pd.NA for x in pd.Series([1, 2, pd.NA], dtype=\"Int64\"))"
   ]
  },
  {
   "cell_type": "code",
   "execution_count": 149,
   "metadata": {},
   "outputs": [
    {
     "data": {
      "text/plain": [
       "False"
      ]
     },
     "execution_count": 149,
     "metadata": {},
     "output_type": "execute_result"
    }
   ],
   "source": [
    "any(x is pd.NA for x in np.array([1, 2, np.nan]))"
   ]
  },
  {
   "cell_type": "code",
   "execution_count": null,
   "metadata": {},
   "outputs": [],
   "source": []
  }
 ],
 "metadata": {
  "kernelspec": {
   "display_name": "Python 3",
   "language": "python",
   "name": "python3"
  },
  "language_info": {
   "codemirror_mode": {
    "name": "ipython",
    "version": 3
   },
   "file_extension": ".py",
   "mimetype": "text/x-python",
   "name": "python",
   "nbconvert_exporter": "python",
   "pygments_lexer": "ipython3",
   "version": "3.7.9"
  }
 },
 "nbformat": 4,
 "nbformat_minor": 4
}
